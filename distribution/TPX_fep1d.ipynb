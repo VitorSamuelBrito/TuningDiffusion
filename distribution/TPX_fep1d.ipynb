{
 "cells": [
  {
   "cell_type": "code",
   "execution_count": 2,
   "id": "13e68152",
   "metadata": {},
   "outputs": [],
   "source": [
    "import numpy as np\n",
    "import matplotlib.pyplot  as plt\n",
    "import math "
   ]
  },
  {
   "cell_type": "code",
   "execution_count": 3,
   "id": "24d939c8",
   "metadata": {},
   "outputs": [],
   "source": [
    "## Funcion, porém esta em python2\n",
    "\n",
    "def compZh(x, dx, dt=1):\n",
    "    zh = {}\n",
    "    for val in x:\n",
    "        val_int = int(val / dx) * dx\n",
    "        zh[val_int] = zh.get(val_int, 0) + 1\n",
    "    \n",
    "    for val in zh:\n",
    "        zh[val] = float(zh[val]) / dt / dx\n",
    "    \n",
    "    return zh\n",
    "\n",
    "def state(x, x0, x1, dx):\n",
    "    zheq = compZh(x, dx)\n",
    "    zhtp = {}\n",
    "    \n",
    "    def addZh(zh, ltpx):\n",
    "        for val in ltpx:\n",
    "            val_int = int(val / dx) * dx\n",
    "            zh[val_int] = zh.get(val_int, 0) + 1\n",
    "    \n",
    "    s = 2  # estado inicial\n",
    "    ltpx = []\n",
    "    if x0 > x1:\n",
    "        x0, x1 = x1, x0  # garante que x0 sempre seja menor que x1\n",
    "    \n",
    "    for val in x:\n",
    "        ltpx.append(val)\n",
    "        \n",
    "        if s == 2:\n",
    "            if val <= x0:\n",
    "                s = 0\n",
    "            if val >= x1:\n",
    "                s = 1    # garante a troca de estados\n",
    "        \n",
    "        if val <= x0:\n",
    "            if s == 1:\n",
    "                addZh(zhtp, ltpx)\n",
    "            s = 0\n",
    "            ltpx = []\n",
    "        \n",
    "        if val >= x1:\n",
    "            if s == 0:\n",
    "                addZh(zhtp, ltpx)\n",
    "            s = 1\n",
    "            ltpx = []\n",
    "    \n",
    "    ptpx = []\n",
    "    for val in zheq:\n",
    "        ptpx.append((val, float(zhtp.get(val, 0)) / dx / zheq[val]))\n",
    "    ptpx.sort()\n",
    "    \n",
    "    return ptpx\n",
    "\n",
    "x = np.genfromtxt('trajectory_file')#, dtype= None, delimiter= None)\n",
    "\n",
    "\n",
    "# Para testar a função\n",
    "x0 = 30\n",
    "x1 = 37\n",
    "dx = 0.5 # ideal 0.1 a 0.5 \n",
    "result = state(x, x0, x1, dx)\n",
    "hist = compZh(x, dx, dt=1)\n",
    "# print(result)\n",
    "\n",
    "result_str = '\\n'.join([f\"{val:.2f}, {prob:.4f}\" for val, prob in result]) # transforma dict em str\n",
    "\n",
    "# with open('TPX_fep1d.txt', 'w') as arquivo:\n",
    "#     arquivo.write(result_str)"
   ]
  },
  {
   "cell_type": "code",
   "execution_count": 4,
   "id": "2fabbe30",
   "metadata": {},
   "outputs": [],
   "source": [
    "# X, Y = zip(*hist)\n",
    "\n",
    "# print(X, Y)"
   ]
  },
  {
   "cell_type": "code",
   "execution_count": 5,
   "id": "c993cc2d",
   "metadata": {},
   "outputs": [
    {
     "name": "stdout",
     "output_type": "stream",
     "text": [
      "{65.0: 2.0, 52.0: 1964.0, 51.0: 7976.0, 51.5: 4444.0, 49.0: 43070.0, 50.5: 13878.0, 48.5: 53894.0, 48.0: 63650.0, 47.0: 76072.0, 47.5: 70258.0, 46.5: 78082.0, 45.5: 76178.0, 44.5: 72332.0, 43.5: 70142.0, 43.0: 70034.0, 44.0: 71376.0, 42.5: 69714.0, 46.0: 77614.0, 49.5: 31794.0, 45.0: 74392.0, 42.0: 68886.0, 41.0: 60938.0, 41.5: 65082.0, 40.5: 54628.0, 39.5: 36704.0, 40.0: 46566.0, 39.0: 28658.0, 38.5: 20946.0, 38.0: 14786.0, 36.5: 5226.0, 36.0: 3752.0, 34.5: 1920.0, 29.5: 3814.0, 29.0: 4958.0, 26.5: 24922.0, 27.0: 20506.0, 26.0: 27950.0, 25.5: 28650.0, 25.0: 28660.0, 23.0: 31076.0, 23.5: 29938.0, 22.5: 31284.0, 22.0: 31456.0, 21.5: 30354.0, 24.5: 28556.0, 21.0: 28300.0, 20.5: 25004.0, 27.5: 15092.0, 24.0: 28770.0, 20.0: 20970.0, 19.5: 16604.0, 28.0: 10484.0, 19.0: 11630.0, 17.5: 2792.0, 31.0: 1828.0, 28.5: 7208.0, 31.5: 1722.0, 34.0: 1574.0, 35.5: 2672.0, 37.5: 10316.0, 33.5: 1468.0, 50.0: 21866.0, 37.0: 7088.0, 52.5: 826.0, 32.0: 1526.0, 30.0: 2664.0, 18.5: 7670.0, 30.5: 2294.0, 32.5: 1490.0, 35.0: 2284.0, 33.0: 1334.0, 53.0: 272.0, 53.5: 104.0, 17.0: 1358.0, 18.0: 4724.0, 16.0: 266.0, 16.5: 542.0, 15.5: 96.0, 54.0: 36.0, 15.0: 28.0, 54.5: 6.0, 14.5: 8.0, 55.0: 2.0}\n"
     ]
    }
   ],
   "source": [
    "print(hist)"
   ]
  },
  {
   "cell_type": "code",
   "execution_count": null,
   "id": "0a7117d2",
   "metadata": {},
   "outputs": [],
   "source": []
  }
 ],
 "metadata": {
  "kernelspec": {
   "display_name": "Python 3 (ipykernel)",
   "language": "python",
   "name": "python3"
  },
  "language_info": {
   "codemirror_mode": {
    "name": "ipython",
    "version": 3
   },
   "file_extension": ".py",
   "mimetype": "text/x-python",
   "name": "python",
   "nbconvert_exporter": "python",
   "pygments_lexer": "ipython3",
   "version": "3.10.9"
  }
 },
 "nbformat": 4,
 "nbformat_minor": 5
}
