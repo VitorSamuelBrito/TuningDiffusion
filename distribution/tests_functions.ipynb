{
 "cells": [
  {
   "cell_type": "code",
   "execution_count": null,
   "id": "249110d4",
   "metadata": {},
   "outputs": [],
   "source": [
    "### https://docs.python.org/3/library/itertools.html#itertools.product"
   ]
  },
  {
   "cell_type": "code",
   "execution_count": 15,
   "id": "2e1672c4-40eb-496c-af76-81819b24c561",
   "metadata": {},
   "outputs": [],
   "source": [
    "## importing libraries\n",
    "\n",
    "import numpy as np\n",
    "import math\n",
    "from itertools import combinations\n",
    "from itertools import product"
   ]
  },
  {
   "cell_type": "code",
   "execution_count": 2,
   "id": "e8109b94-5345-4755-bf20-2140b6687975",
   "metadata": {},
   "outputs": [],
   "source": [
    "## Function of script\n",
    "\n",
    "def Vx(C, W, HEIGHT, x): \n",
    "    Vx = (-2*HEIGHT*2*(x-C)/W**2 +4*HEIGHT*(x-C)**3/W**4)\n",
    "    return Vx\n",
    "\n",
    "def Fx(C, W, HEIGHT, x):\n",
    "    Fx = (-HEIGHT*2*(x-C)**2/W**2 +HEIGHT*(x-C)**4/W**4)\n",
    "    return Fx\n",
    "    \n",
    "def VG(v, u, HEIGHT, x):\n",
    "    VG = HEIGHT*np.exp(-(x-v)**2/u**2)*2*(v-x)/u**2 \n",
    "    return VG\n",
    "    \n",
    "def FG(v, u, HEIGHT, x):\n",
    "    FG = HEIGHT*np.exp(-(x-v)**2/u**2)\n",
    "    return FG\n",
    "\n",
    "def gaussian (D, dt):\n",
    "    # sd is the rms value of the distribution.\n",
    "    sd = 2*D*dt\n",
    "    sd = np.sqrt(sd)\n",
    "    RR = 0 \n",
    "    while True:\n",
    "        M1 = np.random.random()\n",
    "        M2 = np.random.random()\n",
    "        M1 = 2*(M1-0.5)\n",
    "        M2 = 2*(M2-0.5)\n",
    "        tmp1 = M1**2 + M2**2\n",
    "        if tmp1 <= 1.0 and tmp1 >= 0.0:\n",
    "            tmp2 = sd*np.sqrt( -2*np.log(tmp1)/tmp1 )\n",
    "            RR = M1*tmp2\n",
    "            break\n",
    "    return RR"
   ]
  },
  {
   "cell_type": "code",
   "execution_count": 3,
   "id": "3cd1f1dc-b646-4312-9ba1-9ac8e8c12404",
   "metadata": {},
   "outputs": [],
   "source": [
    "## vetors larges \n",
    "\n",
    "C_large = np.arange(-50, 51, 1) # intervelo de -50 a 51 por causa do 0\n",
    "W_large = np.arange(-50, 51, 1) \n",
    "H_large = np.arange(-50, 51, 1) \n",
    "x_large = np.arange(-50, 51, 1) "
   ]
  },
  {
   "cell_type": "code",
   "execution_count": 5,
   "id": "66fb22ba-4e46-4fb5-b3c0-c0e3ba786c29",
   "metadata": {},
   "outputs": [
    {
     "name": "stdout",
     "output_type": "stream",
     "text": [
      "[(18, 17, 8), (18, 17, 40), (18, 8, 40), (17, 8, 40)]\n",
      "[(18, 17, -7), (18, 17, -33), (18, 8, -33), (17, 8, -33)]\n",
      "[(18, -13, -7), (18, -13, -33), (18, -7, -33), (17, -7, -33)]\n",
      "[(-20, -13, -7), (-20, -13, -33), (-20, -7, -33), (-13, -7, -33)]\n",
      "[(-20, -13, 17), (-20, -13, 8), (-20, -13, 40), (-20, -7, 8), (-20, -7, 40), (-20, -33, 40), (-13, -7, 8), (-13, -7, 40), (-13, -33, 40), (-7, -33, 40)]\n",
      "[(-20, 18, 17), (-20, 18, 8), (-20, 18, 40), (-20, 17, 8), (-20, 17, 40), (-20, 8, 40), (-13, 17, 8), (-13, 17, 40), (-13, 8, 40), (-7, 8, 40)]\n",
      "[(18, -13, 17), (18, -13, 8), (18, -13, 40), (18, -7, 8), (18, -7, 40), (18, -33, 40), (17, -7, 8), (17, -7, 40), (17, -33, 40), (8, -33, 40)]\n",
      "[(-20, 18, -13), (-20, 18, -7), (-20, 18, -33), (-20, 17, -7), (-20, 17, -33), (-20, 8, -33), (-13, 17, -7), (-13, 17, -33), (-13, 8, -33), (-7, 8, -33)]\n"
     ]
    }
   ],
   "source": [
    "values = [-20,18,-13,17,-7,8,-33,40]\n",
    "\n",
    "cbt1 = []\n",
    "cbt2 = []\n",
    "cbt3 = []\n",
    "cbt4 = []\n",
    "cbt5 = []\n",
    "cbt6 = []\n",
    "cbt7 = []\n",
    "cbt8 = []\n",
    "\n",
    "for s in combinations(values, 3):\n",
    "    if s[0]>0 and s[1]>0 and s[2]>0:\n",
    "        cbt1.append(s)\n",
    "    \n",
    "    if s[0]>0 and s[1]>0 and s[2]<0:\n",
    "        cbt2.append(s)\n",
    "        \n",
    "    if s[0]>0 and s[1]<0 and s[2]<0:\n",
    "        cbt3.append(s)\n",
    "        \n",
    "    if s[0]<0 and s[1]<0 and s[2]<0:\n",
    "        cbt4.append(s)\n",
    "\n",
    "    if s[0]<0 and s[1]<0 and s[2]>0:\n",
    "        cbt5.append(s)\n",
    "        \n",
    "    if s[0]<0 and s[1]>0 and s[2]>0:\n",
    "        cbt6.append(s)\n",
    "        \n",
    "    if s[0]>0 and s[1]<0 and s[2]>0:\n",
    "        cbt7.append(s)\n",
    "        \n",
    "    if s[0]<0 and s[1]>0 and s[2]<0:\n",
    "        cbt8.append(s)\n",
    "        \n",
    "print(cbt1) \n",
    "print(cbt2)\n",
    "print(cbt3) \n",
    "print(cbt4) \n",
    "print(cbt5) \n",
    "print(cbt6) \n",
    "print(cbt7) \n",
    "print(cbt8)"
   ]
  },
  {
   "cell_type": "code",
   "execution_count": 14,
   "id": "383b974e",
   "metadata": {},
   "outputs": [
    {
     "name": "stdout",
     "output_type": "stream",
     "text": [
      "(-20, -13, -7)\n",
      "(-20, -13, 8)\n",
      "(-20, 17, -7)\n",
      "(-20, 17, 8)\n",
      "(18, -13, -7)\n",
      "(18, -13, 8)\n",
      "(18, 17, -7)\n",
      "(18, 17, 8)\n"
     ]
    }
   ],
   "source": [
    "C_small = np.array([-20, 18])\n",
    "W_small = np.array([-13, 17])\n",
    "H_small = np.array([-7, 8]) # H is Height\n",
    "x_small = np.array([-33, 40])\n",
    "\n",
    "cbt = list(product(C_small, W_small, H_small))\n",
    "\n",
    "for c in cbt:\n",
    "    print(c)"
   ]
  },
  {
   "cell_type": "code",
   "execution_count": 15,
   "id": "71deeca5-e5c3-4d7f-b62c-1df96ea8f0b9",
   "metadata": {},
   "outputs": [],
   "source": [
    "# Cnp = []\n",
    "# ldim = 100\n",
    "# sdim = 2\n",
    "\n",
    "# for l in range(int(ldim+1)):\n",
    "#     for i in range(int(sdim)):\n",
    "#     Cnp.append(Vx(C_large[l], W_small[1], H_small[1], x_small[1]))"
   ]
  },
  {
   "cell_type": "code",
   "execution_count": null,
   "id": "c53cccaa",
   "metadata": {},
   "outputs": [],
   "source": []
  }
 ],
 "metadata": {
  "kernelspec": {
   "display_name": "Python 3 (ipykernel)",
   "language": "python",
   "name": "python3"
  },
  "language_info": {
   "codemirror_mode": {
    "name": "ipython",
    "version": 3
   },
   "file_extension": ".py",
   "mimetype": "text/x-python",
   "name": "python",
   "nbconvert_exporter": "python",
   "pygments_lexer": "ipython3",
   "version": "3.9.13"
  }
 },
 "nbformat": 4,
 "nbformat_minor": 5
}
