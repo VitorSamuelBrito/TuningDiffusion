{
 "cells": [
  {
   "cell_type": "code",
   "execution_count": 1,
   "id": "249110d4",
   "metadata": {},
   "outputs": [],
   "source": [
    "### https://docs.python.org/3/library/itertools.html#itertools.product"
   ]
  },
  {
   "cell_type": "code",
   "execution_count": 2,
   "id": "2e1672c4-40eb-496c-af76-81819b24c561",
   "metadata": {},
   "outputs": [],
   "source": [
    "## importing libraries\n",
    "\n",
    "import numpy as np\n",
    "from itertools import product\n",
    "import os"
   ]
  },
  {
   "cell_type": "code",
   "execution_count": 3,
   "id": "e8109b94-5345-4755-bf20-2140b6687975",
   "metadata": {},
   "outputs": [],
   "source": [
    "## Function of script\n",
    "\n",
    "def Vx(C, W, HEIGHT, x): \n",
    "    Vx = (-2*HEIGHT*2*(x-C)/W**2 +4*HEIGHT*(x-C)**3/W**4)\n",
    "    return Vx\n",
    "\n",
    "def Fx(C, W, HEIGHT, x):\n",
    "    Fx = (-HEIGHT*2*(x-C)**2/W**2 +HEIGHT*(x-C)**4/W**4)\n",
    "    return Fx\n",
    "    \n",
    "def VG(v, u, HEIGHT, x):\n",
    "    VG = HEIGHT*np.exp(-(x-v)**2/u**2)*2*(v-x)/u**2 \n",
    "    return VG\n",
    "    \n",
    "def FG(v, u, HEIGHT, x):\n",
    "    FG = HEIGHT*np.exp(-(x-v)**2/u**2)\n",
    "    return FG"
   ]
  },
  {
   "cell_type": "code",
   "execution_count": 4,
   "id": "801446b2",
   "metadata": {},
   "outputs": [],
   "source": [
    "## Function for test the script\n",
    "\n",
    "def functions_tests(small_1, small_2, small_3, large_ref, dim, func, output_folder=\"output\"):\n",
    "\n",
    "    # Create folder of exit\n",
    "    os.makedirs(output_folder, exist_ok=True)\n",
    "    \n",
    "    for l in range(len(small_1)):\n",
    "        results = [] \n",
    "        \n",
    "        for i in range(int(dim)):\n",
    "            if large_ref[i] != 0:  ## Avoid division by 0\n",
    "                results.append(func(small_1[l, 0], small_2[l, 1], small_3[l, 2], large_ref[i]))\n",
    "        \n",
    "        # Save results in archive\n",
    "        filename = os.path.join(output_folder, f\"{func.__name__}_values_{l+1}.txt\")\n",
    "        with open(filename, \"w\") as file:\n",
    "            for value in results:\n",
    "                file.write(f\"{value}\\n\")"
   ]
  },
  {
   "cell_type": "code",
   "execution_count": 5,
   "id": "158a2201",
   "metadata": {},
   "outputs": [],
   "source": [
    "def automate_tests(small_1, small_2, small_3, large_ref, dim, funcs, output_prefix=\"results\"):\n",
    "    \n",
    "    for func in funcs:\n",
    "        folder_name = f\"{output_prefix}_{func.__name__.lower()}\" \n",
    "        test_functions(small_1, small_2, small_3, large_ref, dim, func, output_folder=folder_name)"
   ]
  },
  {
   "cell_type": "code",
   "execution_count": 6,
   "id": "3cd1f1dc-b646-4312-9ba1-9ac8e8c12404",
   "metadata": {},
   "outputs": [],
   "source": [
    "## vetors larges \n",
    "dim = 101\n",
    "\n",
    "C_large = np.arange(-50, 51, 1) # range from -50 to 51 because of the 0\n",
    "W_large = np.arange(-50, 51, 1) \n",
    "H_large = np.arange(-50, 51, 1) \n",
    "x_large = np.arange(-50, 51, 1) "
   ]
  },
  {
   "cell_type": "code",
   "execution_count": 7,
   "id": "383b974e",
   "metadata": {},
   "outputs": [],
   "source": [
    "## vectors smals and combinations \n",
    "\n",
    "C_small = np.array([-20, 18])\n",
    "W_small = np.array([-13, 17])\n",
    "H_small = np.array([-7, 8]) # H is Height\n",
    "x_small = np.array([-33, 40])\n",
    "\n",
    "values1 = list(product(C_small, W_small, H_small))\n",
    "values2 = list(product(C_small, W_small, x_small))\n",
    "values3 = list(product(C_small, H_small, x_small))\n",
    "values4 = list(product(W_small, H_small, x_small))\n",
    "\n",
    "x = np.asarray(values1)\n",
    "H = np.asarray(values2)\n",
    "W = np.asarray(values3)\n",
    "C = np.asarray(values4)\n",
    "\n",
    "# print(x, H, W, C)"
   ]
  },
  {
   "cell_type": "code",
   "execution_count": 8,
   "id": "86942230",
   "metadata": {},
   "outputs": [],
   "source": [
    "# functions_test = [Vx, Fx, VG, FG]\n",
    "\n",
    "# automate_tests(C, W, H, x_large, dim, functions_test, output_prefix=\"results_x_large\")"
   ]
  },
  {
   "cell_type": "code",
   "execution_count": null,
   "id": "3cc843d5",
   "metadata": {},
   "outputs": [],
   "source": []
  }
 ],
 "metadata": {
  "kernelspec": {
   "display_name": "Python 3 (ipykernel)",
   "language": "python",
   "name": "python3"
  },
  "language_info": {
   "codemirror_mode": {
    "name": "ipython",
    "version": 3
   },
   "file_extension": ".py",
   "mimetype": "text/x-python",
   "name": "python",
   "nbconvert_exporter": "python",
   "pygments_lexer": "ipython3",
   "version": "3.9.13"
  }
 },
 "nbformat": 4,
 "nbformat_minor": 5
}
