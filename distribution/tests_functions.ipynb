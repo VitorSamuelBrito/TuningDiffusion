{
 "cells": [
  {
   "cell_type": "code",
   "execution_count": 1,
   "id": "2e1672c4-40eb-496c-af76-81819b24c561",
   "metadata": {},
   "outputs": [],
   "source": [
    "## importing libraries\n",
    "\n",
    "import numpy as np\n",
    "import math\n",
    "from itertools import permutations"
   ]
  },
  {
   "cell_type": "code",
   "execution_count": 2,
   "id": "e8109b94-5345-4755-bf20-2140b6687975",
   "metadata": {},
   "outputs": [],
   "source": [
    "## Function of script\n",
    "\n",
    "def Vx(C, W, HEIGHT, x): \n",
    "    Vx = (-2*HEIGHT*2*(x-C)/W**2 +4*HEIGHT*(x-C)**3/W**4)\n",
    "    return Vx\n",
    "\n",
    "def Fx(C, W, HEIGHT, x):\n",
    "    Fx = (-HEIGHT*2*(x-C)**2/W**2 +HEIGHT*(x-C)**4/W**4)\n",
    "    return Fx\n",
    "    \n",
    "def VG(v, u, HEIGHT, x):\n",
    "    VG = HEIGHT*np.exp(-(x-v)**2/u**2)*2*(v-x)/u**2 \n",
    "    return VG\n",
    "    \n",
    "def FG(v, u, HEIGHT, x):\n",
    "    FG = HEIGHT*np.exp(-(x-v)**2/u**2)\n",
    "    return FG\n",
    "\n",
    "def gaussian (D, dt):\n",
    "    # sd is the rms value of the distribution.\n",
    "    sd = 2*D*dt\n",
    "    sd = np.sqrt(sd)\n",
    "    RR = 0 \n",
    "    while True:\n",
    "        M1 = np.random.random()\n",
    "        M2 = np.random.random()\n",
    "        M1 = 2*(M1-0.5)\n",
    "        M2 = 2*(M2-0.5)\n",
    "        tmp1 = M1**2 + M2**2\n",
    "        if tmp1 <= 1.0 and tmp1 >= 0.0:\n",
    "            tmp2 = sd*np.sqrt( -2*np.log(tmp1)/tmp1 )\n",
    "            RR = M1*tmp2\n",
    "            break\n",
    "    return RR"
   ]
  },
  {
   "cell_type": "code",
   "execution_count": 3,
   "id": "3cd1f1dc-b646-4312-9ba1-9ac8e8c12404",
   "metadata": {},
   "outputs": [],
   "source": [
    "## vetors larges \n",
    "\n",
    "C_large = np.arange(-50, 51, 1) # intervelo de -50 a 51 por causa do 0\n",
    "W_large = np.arange(-50, 51, 1) \n",
    "H_large = np.arange(-50, 51, 1) \n",
    "x_large = np.arange(-50, 51, 1) "
   ]
  },
  {
   "cell_type": "code",
   "execution_count": 11,
   "id": "66fb22ba-4e46-4fb5-b3c0-c0e3ba786c29",
   "metadata": {},
   "outputs": [],
   "source": [
    "values = [-20,18,-13,17,-7,8,-33,40,]\n",
    "\n",
    "pmt = []\n",
    "\n",
    "for s in permutations(values, 3):\n",
    "    if s[0] < 0 and s[1] > 0:\n",
    "        pmt.append(s)\n",
    "#     print(s)\n",
    "\n",
    "# print(len(pmt))"
   ]
  },
  {
   "cell_type": "code",
   "execution_count": 15,
   "id": "71deeca5-e5c3-4d7f-b62c-1df96ea8f0b9",
   "metadata": {},
   "outputs": [],
   "source": [
    "# Cnp = []\n",
    "# ldim = 100\n",
    "# sdim = 2\n",
    "\n",
    "# for l in range(int(ldim+1)):\n",
    "#     for i in range(int(sdim)):\n",
    "#     Cnp.append(Vx(C_large[l], W_small[1], H_small[1], x_small[1]))"
   ]
  },
  {
   "cell_type": "code",
   "execution_count": null,
   "id": "cb9206d5",
   "metadata": {},
   "outputs": [],
   "source": []
  }
 ],
 "metadata": {
  "kernelspec": {
   "display_name": "Python 3 (ipykernel)",
   "language": "python",
   "name": "python3"
  },
  "language_info": {
   "codemirror_mode": {
    "name": "ipython",
    "version": 3
   },
   "file_extension": ".py",
   "mimetype": "text/x-python",
   "name": "python",
   "nbconvert_exporter": "python",
   "pygments_lexer": "ipython3",
   "version": "3.9.13"
  }
 },
 "nbformat": 4,
 "nbformat_minor": 5
}
