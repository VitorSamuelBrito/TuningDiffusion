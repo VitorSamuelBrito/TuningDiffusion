{
 "cells": [
  {
   "cell_type": "code",
   "execution_count": 9,
   "id": "249110d4",
   "metadata": {},
   "outputs": [],
   "source": [
    "### https://docs.python.org/3/library/itertools.html#itertools.product"
   ]
  },
  {
   "cell_type": "code",
   "execution_count": 10,
   "id": "2e1672c4-40eb-496c-af76-81819b24c561",
   "metadata": {},
   "outputs": [],
   "source": [
    "## importing libraries\n",
    "\n",
    "import numpy as np\n",
    "from itertools import product\n",
    "import os"
   ]
  },
  {
   "cell_type": "code",
   "execution_count": 11,
   "id": "e8109b94-5345-4755-bf20-2140b6687975",
   "metadata": {},
   "outputs": [],
   "source": [
    "## Function of script\n",
    "\n",
    "def Vx(C, W, HEIGHT, x): \n",
    "    Vx = (-2*HEIGHT*2*(x-C)/W**2 +4*HEIGHT*(x-C)**3/W**4)\n",
    "    return Vx\n",
    "\n",
    "def Fx(C, W, HEIGHT, x):\n",
    "    Fx = (-HEIGHT*2*(x-C)**2/W**2 +HEIGHT*(x-C)**4/W**4)\n",
    "    return Fx\n",
    "    \n",
    "def VG(v, u, HEIGHT, x):\n",
    "    VG = HEIGHT*np.exp(-(x-v)**2/u**2)*2*(v-x)/u**2 \n",
    "    return VG\n",
    "    \n",
    "def FG(v, u, HEIGHT, x):\n",
    "    FG = HEIGHT*np.exp(-(x-v)**2/u**2)\n",
    "    return FG"
   ]
  },
  {
   "cell_type": "code",
   "execution_count": 12,
   "id": "801446b2",
   "metadata": {},
   "outputs": [],
   "source": [
    "## Function for test the script\n",
    "\n",
    "def functions_tests(small_1, small_2, small_3, large_ref, dim, func, output_folder=\"output\"):\n",
    "\n",
    "    # Create folder of exit\n",
    "    os.makedirs(output_folder, exist_ok=True)\n",
    "    \n",
    "    for l in range(len(small_1)):\n",
    "        results_C = [] \n",
    "        results_W = [] \n",
    "        results_H = [] \n",
    "        results_x = [] \n",
    "        \n",
    "        for i in range(int(dim)):\n",
    "            if large_ref[i] != 0:  ## Avoid division by 0\n",
    "                results_C.append(func(large_ref[i], small_1[l, 0], small_2[l, 1], small_3[l, 2]))\n",
    "                results_W.append(func(small_1[l, 0], large_ref[i], small_2[l, 1], small_3[l, 2]))\n",
    "                results_H.append(func(small_1[l, 0], small_2[l, 1], large_ref[i], small_3[l, 2]))\n",
    "                results_x.append(func(small_1[l, 0], small_2[l, 1], small_3[l, 2], large_ref[i]))\n",
    "        \n",
    "        # Save results in archive\n",
    "        filename = os.path.join(output_folder, f\"{func.__name__}_{small_1[l, 0]}_{small_2[l, 1]}_{small_3[l, 2]}.txt\")\n",
    "        with open(filename, \"w\") as file:\n",
    "            for value in results_C:\n",
    "                file.write(f\"{value}\\n\")\n",
    "                \n",
    "        with open(filename, \"w\") as file:\n",
    "            for value in results_W:\n",
    "                file.write(f\"{value}\\n\")\n",
    "                \n",
    "        with open(filename, \"w\") as file:\n",
    "            for value in results_H:\n",
    "                file.write(f\"{value}\\n\")\n",
    "                \n",
    "        with open(filename, \"w\") as file:\n",
    "            for value in results_x:\n",
    "                file.write(f\"{value}\\n\")"
   ]
  },
  {
   "cell_type": "code",
   "execution_count": 13,
   "id": "158a2201",
   "metadata": {},
   "outputs": [],
   "source": [
    "def automate_tests(small_1, small_2, small_3, large_ref, dim, funcs, output_prefix=\"results\"):\n",
    "    \n",
    "    for func in funcs:\n",
    "        folder_name = f\"{output_prefix}_{func.__name__.lower()}\" \n",
    "        test_functions(small_1, small_2, small_3, large_ref, dim, func, output_folder=folder_name)"
   ]
  },
  {
   "cell_type": "code",
   "execution_count": 15,
   "id": "383b974e",
   "metadata": {},
   "outputs": [],
   "source": [
    "## create vectors and combinations \n",
    "\n",
    "dim = 101\n",
    "\n",
    "large = np.arange(-50, 51, 1) # range from -50 to 51 because of the 0\n",
    "\n",
    "C_small = np.array([-20, 18])\n",
    "W_small = np.array([-13, 17])\n",
    "H_small = np.array([-7, 8]) # H is Height\n",
    "x_small = np.array([-33, 40])\n",
    "\n",
    "values1 = list(product(C_small, W_small, H_small)) # this is eight combinations without the x\n",
    "values2 = list(product(C_small, W_small, x_small)) # ## # ## #### ## # H\n",
    "values3 = list(product(C_small, H_small, x_small)) # ## # ## #### ## # W\n",
    "values4 = list(product(W_small, H_small, x_small)) # ## # ## #### ## # C\n",
    "\n",
    "x = np.asarray(values1)\n",
    "H = np.asarray(values2)\n",
    "W = np.asarray(values3)\n",
    "C = np.asarray(values4)"
   ]
  },
  {
   "cell_type": "code",
   "execution_count": 16,
   "id": "86942230",
   "metadata": {},
   "outputs": [],
   "source": [
    "## Test of the functions\n",
    "\n",
    "functions_test = [Vx, Fx, VG, FG]\n",
    "\n",
    "automate_tests(x, x, x, large, dim, functions_test, output_prefix=\"results_x_large\")\n",
    "\n",
    "automate_tests(H, H, H, large, dim, functions_test, output_prefix=\"results_H_large\")\n",
    "\n",
    "automate_tests(W, W, W, large, dim, functions_test, output_prefix=\"results_W_large\")\n",
    "\n",
    "automate_tests(C, C, C, large, dim, functions_test, output_prefix=\"results_C_large\") "
   ]
  },
  {
   "cell_type": "code",
   "execution_count": null,
   "id": "2d15b74b",
   "metadata": {},
   "outputs": [],
   "source": []
  }
 ],
 "metadata": {
  "kernelspec": {
   "display_name": "Python 3 (ipykernel)",
   "language": "python",
   "name": "python3"
  },
  "language_info": {
   "codemirror_mode": {
    "name": "ipython",
    "version": 3
   },
   "file_extension": ".py",
   "mimetype": "text/x-python",
   "name": "python",
   "nbconvert_exporter": "python",
   "pygments_lexer": "ipython3",
   "version": "3.9.13"
  }
 },
 "nbformat": 4,
 "nbformat_minor": 5
}
