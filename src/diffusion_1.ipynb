{
 "cells": [
  {
   "cell_type": "markdown",
   "id": "9e17a87e",
   "metadata": {},
   "source": [
    "### Documentation: https://numpy.org/doc/stable/reference/index.html , https://numpy.org/doc/stable/reference/generated/numpy.savetxt.html, https://docs.python.org/3/library/random.html"
   ]
  },
  {
   "cell_type": "markdown",
   "id": "89836a56",
   "metadata": {},
   "source": [
    "#### Instructions: This code generates diffusive trajectories that represent a folding of a protein.\n",
    "#### Problema atual: Dependência da variável NG "
   ]
  },
  {
   "cell_type": "code",
   "execution_count": 1,
   "id": "ba31e9cb",
   "metadata": {},
   "outputs": [],
   "source": [
    "import numpy as np\n",
    "import random"
   ]
  },
  {
   "cell_type": "code",
   "execution_count": 2,
   "id": "e880859d",
   "metadata": {},
   "outputs": [],
   "source": [
    "## Loading the input data ##\n",
    "\n",
    "vl = np.genfromtxt('../input_data/data.txt')#, dtype= None, delimiter= None)\n",
    "\n",
    "#print(vl, type(vl))"
   ]
  },
  {
   "cell_type": "code",
   "execution_count": 3,
   "id": "5c631984",
   "metadata": {
    "scrolled": true
   },
   "outputs": [],
   "source": [
    "## Defining the variables and supplying them with data ##\n",
    "\n",
    "X = vl[0]\n",
    "\n",
    "DIFFX = vl[1]\n",
    "\n",
    "STEPS = vl[2]\n",
    "\n",
    "dt = vl[3]\n",
    "\n",
    "basin1 = vl[4] \n",
    "basin2 = vl[5]\n",
    "\n",
    "HEIGHT = vl[6]\n",
    "\n",
    "NG = vl[7]\n",
    "\n",
    "#print(X, DIFFX, STEPS, dt, basin1, basin2, HEIGHT, NG)"
   ]
  },
  {
   "cell_type": "code",
   "execution_count": 4,
   "id": "ad84f700",
   "metadata": {},
   "outputs": [],
   "source": [
    "## \n",
    "\n",
    "M=(basin2+basin1)/2\n",
    "D=(basin2-basin1)/2\n",
    "\n",
    "bounds = 100\n",
    "grids = 100000\n",
    "width = bounds*1.000000/grids\n",
    "\n",
    "#print(M, D, width)"
   ]
  },
  {
   "cell_type": "code",
   "execution_count": 5,
   "id": "543cac23",
   "metadata": {},
   "outputs": [
    {
     "name": "stdout",
     "output_type": "stream",
     "text": [
      "30.0\n",
      "2.0\n",
      "100000000.0\n",
      "0.01\n",
      "20.0\n",
      "40.0\n",
      "5.0\n",
      "3.0\n",
      "30.0\n",
      "2.0\n",
      "-3.0\n",
      "35.0\n",
      "2.0\n",
      "-5.0\n",
      "25.0\n",
      "1.0\n",
      "-3.0\n"
     ]
    }
   ],
   "source": [
    "## Checking the values of the loaded data ##\n",
    "\n",
    "for l in vl:\n",
    "    print(l)"
   ]
  },
  {
   "cell_type": "code",
   "execution_count": 6,
   "id": "2ba371ec",
   "metadata": {},
   "outputs": [],
   "source": [
    "### \n",
    "\n",
    "Max = np.array([0,0,0])\n",
    "sigma = np.array([0,0,0])\n",
    "GH = np.array([0,0,0])\n",
    "\n",
    "for i in range(int(NG)):\n",
    "    j = i*3\n",
    "    Max[i] = vl[8+j] # The array takes the value of the reference plus three times ahead\n",
    "    sigma[i] = vl[9+j]\n",
    "    GH[i] = vl[10+j]\n",
    "    \n",
    "# print(Max)\n",
    "# print(sigma)\n",
    "# print(GH)  "
   ]
  },
  {
   "cell_type": "code",
   "execution_count": 7,
   "id": "a9bc8365",
   "metadata": {},
   "outputs": [],
   "source": [
    "###\n",
    "\n",
    "def grad24(M, D, HEIGHT, X):\n",
    "    eq1 = (-2*HEIGHT*2*(X-M)/D**2 +4*HEIGHT*(X-M)**3/D**4)\n",
    "    return eq1\n",
    "\n",
    "def E24(M, D, HEIGHT, X):\n",
    "    eq2 = (-HEIGHT*2*(X-M)**2/D**2 +HEIGHT*(X-M)**4/D**4)\n",
    "    return eq2\n",
    "    \n",
    "def gradG(Max, sigma, HEIGHT, X):\n",
    "    #Sg = [l**2 for l in sigma]\n",
    "    eq3 = HEIGHT*np.exp(-(X-Max)**2/sigma**2)*2*(Max-X)/sigma**2 \n",
    "    return eq3\n",
    "    \n",
    "def EG(Max, sigma, HEIGHT, X):\n",
    "    #Sg = [l**2 for l in sigma]\n",
    "    eq4 = HEIGHT*np.exp(-(X-Max)**2/sigma**2)\n",
    "    return eq4\n",
    "\n",
    "\n",
    "#print(grad24(M, D, HEIGHT, X), E24(M, D, HEIGHT, X), gradG(Max, sigma, HEIGHT, X), EG(Max, sigma, HEIGHT, X))"
   ]
  },
  {
   "cell_type": "code",
   "execution_count": 8,
   "id": "ae848687",
   "metadata": {},
   "outputs": [],
   "source": [
    "###\n",
    "\n",
    "def gaussian (DIFFX, dt):\n",
    "    # sd is the rms value of the distribution.\n",
    "    sd = 2*DIFFX*dt\n",
    "    sd = np.sqrt(sd)\n",
    "    RR = True \n",
    "    while RR:\n",
    "        M1 = random.random()\n",
    "        M2 = random.random()\n",
    "        M1 = 2*(M1-0.5)\n",
    "        M2 = 2*(M2-0.5)\n",
    "        tmp1 = M1*M1 + M2*M2\n",
    "        if tmp1 <= 1.0 and tmp1 >= 0.0:\n",
    "            tmp2 = sd*np.sqrt( -2*np.log(tmp1)/tmp1 )\n",
    "            RR = M1*tmp2\n",
    "            break\n",
    "        else:\n",
    "            RR = True\n",
    "    return RR\n",
    "\n",
    "\n",
    "#print(gaussian(DIFFX, dt))"
   ]
  },
  {
   "cell_type": "code",
   "execution_count": 9,
   "id": "df1a42dd",
   "metadata": {},
   "outputs": [
    {
     "name": "stdout",
     "output_type": "stream",
     "text": [
      "100000\n"
     ]
    }
   ],
   "source": [
    "### Surface calculation ###\n",
    "\n",
    "FF=[]\n",
    "ES =[]\n",
    "Hm = []\n",
    "print(grids)\n",
    "\n",
    "for i in range(grids):\n",
    "    H = i*width\n",
    "    FX = 0\n",
    "    EE = 0\n",
    "    grad1 = grad24(M, D, HEIGHT, H)\n",
    "    FX += grad1\n",
    "    \n",
    "    grad2 = E24(M,D,HEIGHT,H)\n",
    "    EE += grad2\n",
    "    \n",
    "    for l in range(int(NG)):\n",
    "        grad3 = gradG(Max[l], sigma[l], GH[l], H)\n",
    "#         print(grad3)\n",
    "        FX += grad3\n",
    "        \n",
    "        grad4 = EG(Max[l], sigma[l], GH[l], H)\n",
    "        EE += grad4\n",
    "        \n",
    "    FF.append(FX)\n",
    "    ES.append(EE)\n",
    "    Hm.append(H)\n",
    "    \n",
    "FF = np.asarray(FF)\n",
    "EE = np.asarray(ES)\n",
    "X = np.asarray(Hm)\n",
    "\n",
    "\n",
    "np.savetxt('SURFACE_X', X, fmt=\"%10.6f\")\n",
    "np.savetxt('SURFACE_EE', EE, fmt=\"%10.6f\")\n",
    "np.savetxt('SURFACE_FX', FF, fmt=\"%10.6f\")"
   ]
  },
  {
   "cell_type": "code",
   "execution_count": 10,
   "id": "84a85967",
   "metadata": {},
   "outputs": [
    {
     "data": {
      "image/png": "[encoded data removed]",
      "text/plain": [
       "<Figure size 432x288 with 1 Axes>"
      ]
     },
     "metadata": {
      "needs_background": "light"
     },
     "output_type": "display_data"
    }
   ],
   "source": [
    "### Surface ###\n",
    "\n",
    "import matplotlib.pyplot as plt\n",
    "x = X \n",
    "fig, ax = plt.subplots()\n",
    "ax.plot(x, FF, label = 'Surface_FX') \n",
    "ax.plot(x, EE, label = 'Surface_EE')\n",
    "plt.xlabel('Varivel H')\n",
    "plt.ylabel('Variveis FX e EE')\n",
    "plt.xlim([None, 60])\n",
    "plt.ylim([-10, 60])\n",
    "plt.legend()\n",
    "plt.show()"
   ]
  },
  {
   "cell_type": "code",
   "execution_count": 11,
   "id": "4aa5cc8e",
   "metadata": {},
   "outputs": [],
   "source": [
    "### Trajectory calculation ###\n",
    "G = []\n",
    "X = []\n",
    "\n",
    "for i in range(int(STEPS)):\n",
    "    \n",
    "    J = int(H/width)\n",
    "#    print(J)\n",
    "    FX =FF[J] \n",
    "#    print(FX)\n",
    "    H += -DIFFX*dt*FX+gaussian(DIFFX,dt)\n",
    "#    print(Gaussis)\n",
    "    \n",
    "    if i % 100==0:  ## spride ## every 100 values\n",
    "        T = dt *i\n",
    "        G.append(H)\n",
    "        X.append(T)\n",
    "    \n",
    "X = np.asarray(X)\n",
    "G = np.asarray(G)\n",
    "\n",
    "np.savetxt('TRAJECTORY_Y', G, fmt=\"%5.2f\" )\n",
    "np.savetxt('TRAJECTORY_X', X, fmt=\"%5.2f\" )"
   ]
  },
  {
   "cell_type": "code",
   "execution_count": 12,
   "id": "4e086161",
   "metadata": {},
   "outputs": [
    {
     "data": {
      "image/png": "[encoded data removed]",
      "text/plain": [
       "<Figure size 432x288 with 1 Axes>"
      ]
     },
     "metadata": {
      "needs_background": "light"
     },
     "output_type": "display_data"
    }
   ],
   "source": [
    "### Trajectory ###\n",
    "\n",
    "x = X \n",
    "fig, ax = plt.subplots()\n",
    "ax.plot(x, G, label = 'Trajectory')\n",
    "plt.xlabel('Varivel T')\n",
    "plt.ylabel('Varivel G')\n",
    "#plt.xlim([None, 60])\n",
    "plt.ylim([10, 60])\n",
    "plt.legend()\n",
    "plt.show()"
   ]
  },
  {
   "cell_type": "markdown",
   "id": "3c6e55f1",
   "metadata": {},
   "source": [
    "#### Below are the attempts made regarding the code."
   ]
  },
  {
   "cell_type": "code",
   "execution_count": 13,
   "id": "005a871b",
   "metadata": {},
   "outputs": [],
   "source": [
    "#vl = np.loadtxt('dados.txt')"
   ]
  },
  {
   "cell_type": "code",
   "execution_count": 14,
   "id": "ffdf5efd",
   "metadata": {},
   "outputs": [],
   "source": [
    "## SUPERFICIE ##\n",
    "\n",
    "#FF = []\n",
    "#Ee = []\n",
    "#HM = []\n",
    "\n",
    "#while (I<grids):\n",
    "    #I += 1\n",
    "    #H = I*width\n",
    "    #FX = 0\n",
    "    #EE = 0\n",
    "    #grad1 = grad24(M, D, HEIGHT, X)\n",
    "    #FX += grad1\n",
    "    \n",
    "    #grad2 = E24(M,D,HEIGHT,X)\n",
    "    #EE += grad2\n",
    "    \n",
    "    #for l in range(int(NG)):\n",
    "        #grad3 = gradG(Max[l], sigma[l], GH[l], X)\n",
    "        #FX += grad3\n",
    "        \n",
    "        #grad4 = EG(Max[l], sigma[l], GH[l], X)\n",
    "        #EE += grad4\n",
    "    #FF.append(FX)\n",
    "    #Ee.append(EE)\n",
    "    #HM.append(H)\n",
    "    \n",
    "    \n"
   ]
  },
  {
   "cell_type": "code",
   "execution_count": 15,
   "id": "695453ef",
   "metadata": {},
   "outputs": [],
   "source": [
    "#### TESTES ####\n",
    "\n",
    "# Definido o vetores max sigma e gh\n",
    "\n",
    "#Max = []\n",
    "#sigma = [0,0,0]\n",
    "# # sigma = np.zeros(int(NG))\n",
    "# # GH = np.zeros(int(NG))\n",
    "\n",
    "#Max.append(vl[8])\n",
    "#Max.append(vl[11])\n",
    "#Max.append(vl[14])\n",
    "\n",
    "#for l in range(int(NG)):\n",
    "    #sigma[l] = vl[9]\n",
    "\n",
    "#Max = [0,0,0]\n",
    "#Max= vl[8], vl[11], vl[14]\n",
    "#sigma = [0,0,0]\n",
    "#sigma = vl[9], vl[12], vl[15]\n",
    "#GH = [0,0,0]\n",
    "#GH = vl[10], vl[13], vl[16]\n",
    "\n",
    "#Max = np.array([0,0,0])\n",
    "#sigma = np.array([0,0,0])\n",
    "#GH = np.array([0,0,0])\n",
    "\n",
    "#for i in range(int(NG)):\n",
    "    #Max[i] = vl[8+i] \n",
    "    #sigma[i] = vl[11+i]\n",
    "    #GH[i] = vl[14+i]\n",
    "\n",
    "#print(Max,sigma, type(Max))\n",
    "\n",
    "### Exemplo de until ###\n",
    "\n",
    "#while True:\n",
    "    #do_something()\n",
    "    #if condition():\n",
    "    #break"
   ]
  }
 ],
 "metadata": {
  "kernelspec": {
   "display_name": "Python 3 (ipykernel)",
   "language": "python",
   "name": "python3"
  },
  "language_info": {
   "codemirror_mode": {
    "name": "ipython",
    "version": 3
   },
   "file_extension": ".py",
   "mimetype": "text/x-python",
   "name": "python",
   "nbconvert_exporter": "python",
   "pygments_lexer": "ipython3",
   "version": "3.9.7"
  }
 },
 "nbformat": 4,
 "nbformat_minor": 5
}
