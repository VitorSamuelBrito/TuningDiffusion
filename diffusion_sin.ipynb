{
 "cells": [
  {
   "cell_type": "markdown",
   "id": "9e17a87e",
   "metadata": {},
   "source": [
    "### Documentation: https://numpy.org/doc/stable/reference/index.html , https://numpy.org/doc/stable/reference/generated/numpy.savetxt.html, https://docs.python.org/3/library/random.html"
   ]
  },
  {
   "cell_type": "markdown",
   "id": "89836a56",
   "metadata": {},
   "source": [
    "#### Instructions: This code generates diffusive trajectories that represent a folding of a protein.\n",
    "#### Problema atual: Dependência da variável NG "
   ]
  },
  {
   "cell_type": "code",
   "execution_count": 69,
   "id": "ba31e9cb",
   "metadata": {},
   "outputs": [],
   "source": [
    "import numpy as np\n",
    "import random\n",
    "import matplotlib.pyplot as plt"
   ]
  },
  {
   "cell_type": "code",
   "execution_count": 60,
   "id": "e880859d",
   "metadata": {},
   "outputs": [],
   "source": [
    "## Loading the input data ##\n",
    "\n",
    "vl = np.genfromtxt('dados_sin.txt')#, dtype= None, delimiter= None)\n",
    "\n",
    "# print(vl, type(vl))"
   ]
  },
  {
   "cell_type": "code",
   "execution_count": 61,
   "id": "5c631984",
   "metadata": {
    "scrolled": true
   },
   "outputs": [],
   "source": [
    "## Defining the variables and supplying them with data ##\n",
    "\n",
    "X = vl[0]\n",
    "\n",
    "DIFFX = vl[1]\n",
    "\n",
    "SINM = vl[2] ##  um2/s\n",
    "\n",
    "SINF=vl[3] ##  um2/s\n",
    "\n",
    "STEPS = vl[4] ## 100.000.000.000 ##\n",
    "\n",
    "dt = vl[5]\n",
    "\n",
    "basin1 = vl[6] \n",
    "basin2 = vl[7]\n",
    "\n",
    "HEIGHT = vl[8]\n",
    "\n",
    "SLOPE = vl[9]\n",
    "\n",
    "NG = vl[10]\n",
    "\n",
    "#print(X, DIFFX, SINM, SINF, STEPS, dt, basin1, basin2, HEIGHT, SLOPE, NG)"
   ]
  },
  {
   "cell_type": "code",
   "execution_count": 62,
   "id": "ad84f700",
   "metadata": {},
   "outputs": [],
   "source": [
    "## \n",
    "\n",
    "M=(basin2+basin1)/2\n",
    "D=(basin2-basin1)/2\n",
    "\n",
    "bounds = 100\n",
    "grids = 100000\n",
    "width = bounds*1.000000/grids\n",
    "\n",
    "# print(M, D, width)"
   ]
  },
  {
   "cell_type": "code",
   "execution_count": 63,
   "id": "543cac23",
   "metadata": {},
   "outputs": [
    {
     "name": "stdout",
     "output_type": "stream",
     "text": [
      "30.0\n",
      "1.5\n",
      "1.0\n",
      "4.0\n",
      "1000000.0\n",
      "0.01\n",
      "22.0\n",
      "47.0\n",
      "3.6\n",
      "-0.03\n",
      "2.0\n",
      "27.0\n",
      "2.3\n",
      "-1.0\n",
      "40.0\n",
      "4.0\n",
      "-2.0\n",
      "nan\n",
      "nan\n",
      "nan\n",
      "nan\n",
      "nan\n",
      "nan\n",
      "nan\n",
      "nan\n",
      "nan\n",
      "nan\n",
      "nan\n"
     ]
    }
   ],
   "source": [
    "## Checking the values of the loaded data ##\n",
    "\n",
    "for l in vl:\n",
    "    print(l)"
   ]
  },
  {
   "cell_type": "code",
   "execution_count": 64,
   "id": "2ba371ec",
   "metadata": {},
   "outputs": [],
   "source": [
    "### \n",
    "\n",
    "Max = np.array([0,0])\n",
    "sigma = np.array([0,0])\n",
    "GH = np.array([0,0])\n",
    "\n",
    "for i in range(int(NG)):\n",
    "    j = i*3 \n",
    "    Max[i] = vl[11+j] # The array takes the value of the reference plus three times ahead\n",
    "    sigma[i] = vl[12+j]\n",
    "    GH[i] = vl[13+j]\n",
    "    \n",
    "# print(Max)\n",
    "# print(sigma)\n",
    "# print(GH)  "
   ]
  },
  {
   "cell_type": "code",
   "execution_count": 65,
   "id": "a9bc8365",
   "metadata": {},
   "outputs": [],
   "source": [
    "###\n",
    "\n",
    "def DD(DIFFX, SINM, X, SINF):\n",
    "    eqd = DIFFX+SINM*np.sin(X/SINF)\n",
    "    return eqd\n",
    "\n",
    "def DDslope(DIFFX, SINM, X, SINF):\n",
    "    eqs = SINM/SINF*np.cos(X/SINF)\n",
    "    return eqs\n",
    "\n",
    "def grad24(M, D, HEIGHT, X):\n",
    "    eq1 = (-2*HEIGHT*2*(X-M)/D**2 +4*HEIGHT*(X-M)**3/D**4)\n",
    "    return eq1\n",
    "\n",
    "def E24(M, D, HEIGHT, X):\n",
    "    eq2 = (-HEIGHT*2*(X-M)**2/D**2 +HEIGHT*(X-M)**4/D**4)\n",
    "    return eq2\n",
    "    \n",
    "def gradG(Max, sigma, HEIGHT, X):\n",
    "    #Sg = [l**2 for l in sigma]\n",
    "    eq3 = HEIGHT*np.exp(-(X-Max)**2/sigma**2)*2*(Max-X)/sigma**2 \n",
    "    return eq3\n",
    "    \n",
    "def EG(Max, sigma, HEIGHT, X):\n",
    "    #Sg = [l**2 for l in sigma]\n",
    "    eq4 = HEIGHT*np.exp(-(X-Max)**2/sigma**2)\n",
    "    return eq4\n",
    "\n",
    " \n",
    "#print(DD(DIFFX, SINM, X, SINF), DDslope(DIFFX, SINM, X, SINF), grad24(M, D, HEIGHT, X), E24(M, D, HEIGHT, X), gradG(Max, sigma, HEIGHT, X), EG(Max, sigma, HEIGHT, X))"
   ]
  },
  {
   "cell_type": "code",
   "execution_count": 66,
   "id": "ae848687",
   "metadata": {},
   "outputs": [],
   "source": [
    "###\n",
    "\n",
    "def gaussian (DIFFX, dt):\n",
    "    # sd is the rms value of the distribution.\n",
    "    sd = 2*DIFFX*dt\n",
    "    sd = np.sqrt(sd)\n",
    "    RR = 0 \n",
    "    while True:\n",
    "        M1 = random.random()\n",
    "        M2 = random.random()\n",
    "        M1 = 2*(M1-0.5)\n",
    "        M2 = 2*(M2-0.5)\n",
    "        tmp1 = M1*M1 + M2*M2\n",
    "        if tmp1 <= 1.0 and tmp1 >= 0.0:\n",
    "            tmp2 = sd*np.sqrt( -2*np.log(tmp1)/tmp1 )\n",
    "            RR = M1*tmp2\n",
    "        if RR:\n",
    "            break\n",
    "    return RR\n",
    "\n",
    "#print(gaussian(DIFFX, dt))"
   ]
  },
  {
   "cell_type": "code",
   "execution_count": 67,
   "id": "47e52d64",
   "metadata": {},
   "outputs": [
    {
     "ename": "SyntaxError",
     "evalue": "invalid syntax (<ipython-input-67-6ea95b28ced3>, line 1)",
     "output_type": "error",
     "traceback": [
      "\u001b[0;36m  File \u001b[0;32m\"<ipython-input-67-6ea95b28ced3>\"\u001b[0;36m, line \u001b[0;32m1\u001b[0m\n\u001b[0;31m    while($I<$grids){\u001b[0m\n\u001b[0m          ^\u001b[0m\n\u001b[0;31mSyntaxError\u001b[0m\u001b[0;31m:\u001b[0m invalid syntax\n"
     ]
    }
   ],
   "source": [
    "while($I<$grids){\n",
    "        $I++;\n",
    "        $X=$I*$width;\n",
    "\n",
    "##      $RRR=gaussian($DIFF,$dt);\n",
    "##      print \"$RRR\\n\";\n",
    "\n",
    "        $FX=0;\n",
    "        $EE=0;\n",
    "\n",
    "        $grad=grad24($M,$D,$HEIGHT,$X);\n",
    "        $FX+=$grad;\n",
    "\n",
    "        $grad=E24($M,$D,$HEIGHT,$X);\n",
    "        $EE+=$grad;\n",
    "\n",
    "        for($J=0;$J<$NG;$J++){\n",
    "\n",
    "        $grad=gradG($MAX[$J],$sigma[$J],$GH[$J],$X);\n",
    "        $FX+=$grad;\n",
    "        $grad=EG($MAX[$J],$sigma[$J],$GH[$J],$X);\n",
    "        $EE+=$grad;\n",
    "\n",
    "        }\n",
    "        $EE+=$SLOPE*$X;\n",
    "        $FX+=$SLOPE;\n",
    "        $FF[$I]=$FX;\n",
    "\t$DDv[$I]=DD($DIFFX,$SINM,$X,$SINF);\n",
    "\t$DDm[$I]=DDslope($DIFFX,$SINM,$X,$SINF);\n",
    "        printf fileS (\"%10.6f %10.6f %10.6f %10.6f\\n\", $X, $EE, $FX, $DDv[$I]);\n",
    "\n",
    "}"
   ]
  },
  {
   "cell_type": "code",
   "execution_count": 71,
   "id": "df1a42dd",
   "metadata": {},
   "outputs": [
    {
     "ename": "ValueError",
     "evalue": "Expected 1D or 2D array, got 0D array instead",
     "output_type": "error",
     "traceback": [
      "\u001b[0;31m---------------------------------------------------------------------------\u001b[0m",
      "\u001b[0;31mValueError\u001b[0m                                Traceback (most recent call last)",
      "\u001b[0;32m<ipython-input-71-732abea835dd>\u001b[0m in \u001b[0;36m<module>\u001b[0;34m\u001b[0m\n\u001b[1;32m     41\u001b[0m \u001b[0mnp\u001b[0m\u001b[0;34m.\u001b[0m\u001b[0msavetxt\u001b[0m\u001b[0;34m(\u001b[0m\u001b[0;34m'SURFACE_EE'\u001b[0m\u001b[0;34m,\u001b[0m \u001b[0mEE\u001b[0m\u001b[0;34m,\u001b[0m \u001b[0mfmt\u001b[0m\u001b[0;34m=\u001b[0m\u001b[0;34m\"%10.6f\"\u001b[0m\u001b[0;34m)\u001b[0m\u001b[0;34m\u001b[0m\u001b[0;34m\u001b[0m\u001b[0m\n\u001b[1;32m     42\u001b[0m \u001b[0mnp\u001b[0m\u001b[0;34m.\u001b[0m\u001b[0msavetxt\u001b[0m\u001b[0;34m(\u001b[0m\u001b[0;34m'SURFACE_FX'\u001b[0m\u001b[0;34m,\u001b[0m \u001b[0mFF\u001b[0m\u001b[0;34m,\u001b[0m \u001b[0mfmt\u001b[0m\u001b[0;34m=\u001b[0m\u001b[0;34m\"%10.6f\"\u001b[0m\u001b[0;34m)\u001b[0m\u001b[0;34m\u001b[0m\u001b[0;34m\u001b[0m\u001b[0m\n\u001b[0;32m---> 43\u001b[0;31m \u001b[0mnp\u001b[0m\u001b[0;34m.\u001b[0m\u001b[0msavetxt\u001b[0m\u001b[0;34m(\u001b[0m\u001b[0;34m'SURFACE_DDv'\u001b[0m\u001b[0;34m,\u001b[0m \u001b[0mDDv\u001b[0m\u001b[0;34m,\u001b[0m \u001b[0mfmt\u001b[0m\u001b[0;34m=\u001b[0m\u001b[0;34m\"%10.6f\"\u001b[0m\u001b[0;34m)\u001b[0m\u001b[0;34m\u001b[0m\u001b[0;34m\u001b[0m\u001b[0m\n\u001b[0m",
      "\u001b[0;32m<__array_function__ internals>\u001b[0m in \u001b[0;36msavetxt\u001b[0;34m(*args, **kwargs)\u001b[0m\n",
      "\u001b[0;32m~/anaconda3/lib/python3.8/site-packages/numpy/lib/npyio.py\u001b[0m in \u001b[0;36msavetxt\u001b[0;34m(fname, X, fmt, delimiter, newline, header, footer, comments, encoding)\u001b[0m\n\u001b[1;32m   1378\u001b[0m         \u001b[0;31m# Handle 1-dimensional arrays\u001b[0m\u001b[0;34m\u001b[0m\u001b[0;34m\u001b[0m\u001b[0;34m\u001b[0m\u001b[0m\n\u001b[1;32m   1379\u001b[0m         \u001b[0;32mif\u001b[0m \u001b[0mX\u001b[0m\u001b[0;34m.\u001b[0m\u001b[0mndim\u001b[0m \u001b[0;34m==\u001b[0m \u001b[0;36m0\u001b[0m \u001b[0;32mor\u001b[0m \u001b[0mX\u001b[0m\u001b[0;34m.\u001b[0m\u001b[0mndim\u001b[0m \u001b[0;34m>\u001b[0m \u001b[0;36m2\u001b[0m\u001b[0;34m:\u001b[0m\u001b[0;34m\u001b[0m\u001b[0;34m\u001b[0m\u001b[0m\n\u001b[0;32m-> 1380\u001b[0;31m             raise ValueError(\n\u001b[0m\u001b[1;32m   1381\u001b[0m                 \"Expected 1D or 2D array, got %dD array instead\" % X.ndim)\n\u001b[1;32m   1382\u001b[0m         \u001b[0;32melif\u001b[0m \u001b[0mX\u001b[0m\u001b[0;34m.\u001b[0m\u001b[0mndim\u001b[0m \u001b[0;34m==\u001b[0m \u001b[0;36m1\u001b[0m\u001b[0;34m:\u001b[0m\u001b[0;34m\u001b[0m\u001b[0;34m\u001b[0m\u001b[0m\n",
      "\u001b[0;31mValueError\u001b[0m: Expected 1D or 2D array, got 0D array instead"
     ]
    }
   ],
   "source": [
    "### Surface calculation ###\n",
    "\n",
    "FF=[]\n",
    "ES =[]\n",
    "Hm = []\n",
    "DDV = []\n",
    "\n",
    "for i in range(grids):\n",
    "    H = i*width\n",
    "    FX = 0\n",
    "    EE = 0\n",
    "    grad1 = grad24(M, D, HEIGHT, H)\n",
    "    FX += grad1\n",
    "    \n",
    "    grad2 = E24(M,D,HEIGHT,H)\n",
    "    EE += grad2\n",
    "    \n",
    "    for l in range(int(NG)):\n",
    "        grad3 = gradG(Max[l], sigma[l], GH[l], H)\n",
    "#         print(grad3)\n",
    "        FX += grad3\n",
    "        \n",
    "        grad4 = EG(Max[l], sigma[l], GH[l], H)\n",
    "        EE += grad4\n",
    "    \n",
    "    EE += SLOPE*H\n",
    "    FX += SLOPE\n",
    "    #DDv = DD(DIFFX, SINM, H, SINF)\n",
    "    #DDm = DDslope(DIFFX, SINM, H, SINF)\n",
    "    \n",
    "    FF.append(FX)\n",
    "    ES.append(EE)\n",
    "    Hm.append(H)\n",
    "    DDv.append(DDV)\n",
    "    \n",
    "FF = np.asarray(FF)\n",
    "EE = np.asarray(ES)\n",
    "DDv = np.asarray(DDv)\n",
    "X = np.asarray(Hm)\n",
    "\n",
    "\n",
    "# np.savetxt('SURFACE_X', X, fmt=\"%10.6f\")\n",
    "# np.savetxt('SURFACE_EE', EE, fmt=\"%10.6f\")\n",
    "# np.savetxt('SURFACE_FX', FF, fmt=\"%10.6f\")\n",
    "# np.savetxt('SURFACE_DDv', DDv, fmt=\"%10.6f\")"
   ]
  },
  {
   "cell_type": "code",
   "execution_count": 70,
   "id": "84a85967",
   "metadata": {},
   "outputs": [
    {
     "ename": "ValueError",
     "evalue": "x and y must have same first dimension, but have shapes (1,) and (100000,)",
     "output_type": "error",
     "traceback": [
      "\u001b[0;31m---------------------------------------------------------------------------\u001b[0m",
      "\u001b[0;31mValueError\u001b[0m                                Traceback (most recent call last)",
      "\u001b[0;32m<ipython-input-70-c852a1ab9cfc>\u001b[0m in \u001b[0;36m<module>\u001b[0;34m\u001b[0m\n\u001b[1;32m      3\u001b[0m \u001b[0mx\u001b[0m \u001b[0;34m=\u001b[0m \u001b[0mX\u001b[0m\u001b[0;34m\u001b[0m\u001b[0;34m\u001b[0m\u001b[0m\n\u001b[1;32m      4\u001b[0m \u001b[0mfig\u001b[0m\u001b[0;34m,\u001b[0m \u001b[0max\u001b[0m \u001b[0;34m=\u001b[0m \u001b[0mplt\u001b[0m\u001b[0;34m.\u001b[0m\u001b[0msubplots\u001b[0m\u001b[0;34m(\u001b[0m\u001b[0;34m)\u001b[0m\u001b[0;34m\u001b[0m\u001b[0;34m\u001b[0m\u001b[0m\n\u001b[0;32m----> 5\u001b[0;31m \u001b[0max\u001b[0m\u001b[0;34m.\u001b[0m\u001b[0mplot\u001b[0m\u001b[0;34m(\u001b[0m\u001b[0mx\u001b[0m\u001b[0;34m,\u001b[0m \u001b[0mFF\u001b[0m\u001b[0;34m,\u001b[0m \u001b[0mlabel\u001b[0m \u001b[0;34m=\u001b[0m \u001b[0;34m'Surface_FX'\u001b[0m\u001b[0;34m)\u001b[0m\u001b[0;34m\u001b[0m\u001b[0;34m\u001b[0m\u001b[0m\n\u001b[0m\u001b[1;32m      6\u001b[0m \u001b[0max\u001b[0m\u001b[0;34m.\u001b[0m\u001b[0mplot\u001b[0m\u001b[0;34m(\u001b[0m\u001b[0mx\u001b[0m\u001b[0;34m,\u001b[0m \u001b[0mEE\u001b[0m\u001b[0;34m,\u001b[0m \u001b[0mlabel\u001b[0m \u001b[0;34m=\u001b[0m \u001b[0;34m'Surface_EE'\u001b[0m\u001b[0;34m)\u001b[0m\u001b[0;34m\u001b[0m\u001b[0;34m\u001b[0m\u001b[0m\n\u001b[1;32m      7\u001b[0m \u001b[0max\u001b[0m\u001b[0;34m.\u001b[0m\u001b[0mplot\u001b[0m\u001b[0;34m(\u001b[0m\u001b[0mx\u001b[0m\u001b[0;34m,\u001b[0m \u001b[0mDDv\u001b[0m\u001b[0;34m,\u001b[0m \u001b[0mlabel\u001b[0m \u001b[0;34m=\u001b[0m \u001b[0;34m'Surface_EE'\u001b[0m\u001b[0;34m)\u001b[0m\u001b[0;34m\u001b[0m\u001b[0;34m\u001b[0m\u001b[0m\n",
      "\u001b[0;32m~/anaconda3/lib/python3.8/site-packages/matplotlib/axes/_axes.py\u001b[0m in \u001b[0;36mplot\u001b[0;34m(self, scalex, scaley, data, *args, **kwargs)\u001b[0m\n\u001b[1;32m   1741\u001b[0m         \"\"\"\n\u001b[1;32m   1742\u001b[0m         \u001b[0mkwargs\u001b[0m \u001b[0;34m=\u001b[0m \u001b[0mcbook\u001b[0m\u001b[0;34m.\u001b[0m\u001b[0mnormalize_kwargs\u001b[0m\u001b[0;34m(\u001b[0m\u001b[0mkwargs\u001b[0m\u001b[0;34m,\u001b[0m \u001b[0mmlines\u001b[0m\u001b[0;34m.\u001b[0m\u001b[0mLine2D\u001b[0m\u001b[0;34m)\u001b[0m\u001b[0;34m\u001b[0m\u001b[0;34m\u001b[0m\u001b[0m\n\u001b[0;32m-> 1743\u001b[0;31m         \u001b[0mlines\u001b[0m \u001b[0;34m=\u001b[0m \u001b[0;34m[\u001b[0m\u001b[0;34m*\u001b[0m\u001b[0mself\u001b[0m\u001b[0;34m.\u001b[0m\u001b[0m_get_lines\u001b[0m\u001b[0;34m(\u001b[0m\u001b[0;34m*\u001b[0m\u001b[0margs\u001b[0m\u001b[0;34m,\u001b[0m \u001b[0mdata\u001b[0m\u001b[0;34m=\u001b[0m\u001b[0mdata\u001b[0m\u001b[0;34m,\u001b[0m \u001b[0;34m**\u001b[0m\u001b[0mkwargs\u001b[0m\u001b[0;34m)\u001b[0m\u001b[0;34m]\u001b[0m\u001b[0;34m\u001b[0m\u001b[0;34m\u001b[0m\u001b[0m\n\u001b[0m\u001b[1;32m   1744\u001b[0m         \u001b[0;32mfor\u001b[0m \u001b[0mline\u001b[0m \u001b[0;32min\u001b[0m \u001b[0mlines\u001b[0m\u001b[0;34m:\u001b[0m\u001b[0;34m\u001b[0m\u001b[0;34m\u001b[0m\u001b[0m\n\u001b[1;32m   1745\u001b[0m             \u001b[0mself\u001b[0m\u001b[0;34m.\u001b[0m\u001b[0madd_line\u001b[0m\u001b[0;34m(\u001b[0m\u001b[0mline\u001b[0m\u001b[0;34m)\u001b[0m\u001b[0;34m\u001b[0m\u001b[0;34m\u001b[0m\u001b[0m\n",
      "\u001b[0;32m~/anaconda3/lib/python3.8/site-packages/matplotlib/axes/_base.py\u001b[0m in \u001b[0;36m__call__\u001b[0;34m(self, data, *args, **kwargs)\u001b[0m\n\u001b[1;32m    271\u001b[0m                 \u001b[0mthis\u001b[0m \u001b[0;34m+=\u001b[0m \u001b[0margs\u001b[0m\u001b[0;34m[\u001b[0m\u001b[0;36m0\u001b[0m\u001b[0;34m]\u001b[0m\u001b[0;34m,\u001b[0m\u001b[0;34m\u001b[0m\u001b[0;34m\u001b[0m\u001b[0m\n\u001b[1;32m    272\u001b[0m                 \u001b[0margs\u001b[0m \u001b[0;34m=\u001b[0m \u001b[0margs\u001b[0m\u001b[0;34m[\u001b[0m\u001b[0;36m1\u001b[0m\u001b[0;34m:\u001b[0m\u001b[0;34m]\u001b[0m\u001b[0;34m\u001b[0m\u001b[0;34m\u001b[0m\u001b[0m\n\u001b[0;32m--> 273\u001b[0;31m             \u001b[0;32myield\u001b[0m \u001b[0;32mfrom\u001b[0m \u001b[0mself\u001b[0m\u001b[0;34m.\u001b[0m\u001b[0m_plot_args\u001b[0m\u001b[0;34m(\u001b[0m\u001b[0mthis\u001b[0m\u001b[0;34m,\u001b[0m \u001b[0mkwargs\u001b[0m\u001b[0;34m)\u001b[0m\u001b[0;34m\u001b[0m\u001b[0;34m\u001b[0m\u001b[0m\n\u001b[0m\u001b[1;32m    274\u001b[0m \u001b[0;34m\u001b[0m\u001b[0m\n\u001b[1;32m    275\u001b[0m     \u001b[0;32mdef\u001b[0m \u001b[0mget_next_color\u001b[0m\u001b[0;34m(\u001b[0m\u001b[0mself\u001b[0m\u001b[0;34m)\u001b[0m\u001b[0;34m:\u001b[0m\u001b[0;34m\u001b[0m\u001b[0;34m\u001b[0m\u001b[0m\n",
      "\u001b[0;32m~/anaconda3/lib/python3.8/site-packages/matplotlib/axes/_base.py\u001b[0m in \u001b[0;36m_plot_args\u001b[0;34m(self, tup, kwargs)\u001b[0m\n\u001b[1;32m    397\u001b[0m \u001b[0;34m\u001b[0m\u001b[0m\n\u001b[1;32m    398\u001b[0m         \u001b[0;32mif\u001b[0m \u001b[0mx\u001b[0m\u001b[0;34m.\u001b[0m\u001b[0mshape\u001b[0m\u001b[0;34m[\u001b[0m\u001b[0;36m0\u001b[0m\u001b[0;34m]\u001b[0m \u001b[0;34m!=\u001b[0m \u001b[0my\u001b[0m\u001b[0;34m.\u001b[0m\u001b[0mshape\u001b[0m\u001b[0;34m[\u001b[0m\u001b[0;36m0\u001b[0m\u001b[0;34m]\u001b[0m\u001b[0;34m:\u001b[0m\u001b[0;34m\u001b[0m\u001b[0;34m\u001b[0m\u001b[0m\n\u001b[0;32m--> 399\u001b[0;31m             raise ValueError(f\"x and y must have same first dimension, but \"\n\u001b[0m\u001b[1;32m    400\u001b[0m                              f\"have shapes {x.shape} and {y.shape}\")\n\u001b[1;32m    401\u001b[0m         \u001b[0;32mif\u001b[0m \u001b[0mx\u001b[0m\u001b[0;34m.\u001b[0m\u001b[0mndim\u001b[0m \u001b[0;34m>\u001b[0m \u001b[0;36m2\u001b[0m \u001b[0;32mor\u001b[0m \u001b[0my\u001b[0m\u001b[0;34m.\u001b[0m\u001b[0mndim\u001b[0m \u001b[0;34m>\u001b[0m \u001b[0;36m2\u001b[0m\u001b[0;34m:\u001b[0m\u001b[0;34m\u001b[0m\u001b[0;34m\u001b[0m\u001b[0m\n",
      "\u001b[0;31mValueError\u001b[0m: x and y must have same first dimension, but have shapes (1,) and (100000,)"
     ]
    },
    {
     "data": {
      "image/png": "[encoded data removed]",
      "text/plain": [
       "<Figure size 432x288 with 1 Axes>"
      ]
     },
     "metadata": {
      "needs_background": "light"
     },
     "output_type": "display_data"
    }
   ],
   "source": [
    "### Surface ###\n",
    "\n",
    "x = X \n",
    "fig, ax = plt.subplots()\n",
    "ax.plot(x, FF, label = 'Surface_FX') \n",
    "ax.plot(x, EE, label = 'Surface_EE')\n",
    "ax.plot(x, DDv, label = 'Surface_DDv')\n",
    "plt.xlabel('Varivel H')\n",
    "plt.ylabel('Variveis FX e EE')\n",
    "plt.xlim([None, 100])\n",
    "plt.ylim([-10, 100])\n",
    "plt.legend()\n",
    "plt.show()"
   ]
  },
  {
   "cell_type": "code",
   "execution_count": 58,
   "id": "4aa5cc8e",
   "metadata": {},
   "outputs": [],
   "source": [
    "### Trajectory calculation ###\n",
    "G = []\n",
    "X = []\n",
    "\n",
    "for i in range(int(STEPS)):\n",
    "    \n",
    "    J = int(H/width)\n",
    "#    print(J)\n",
    "    FX =FF[J] \n",
    "#    print(FX)\n",
    "    H += -DIFFX*dt*FX+gaussian(DIFFX,dt)\n",
    "#    print(Gaussis)\n",
    "    \n",
    "    if i % 100==0:  ## spride ## every 100 values\n",
    "        T = dt *i\n",
    "        G.append(H)\n",
    "        X.append(T)\n",
    "    \n",
    "X = np.asarray(X)\n",
    "G = np.asarray(G)\n",
    "\n",
    "# np.savetxt('TRAJECTORY_Y', G, fmt=\"%5.2f\" )\n",
    "# np.savetxt('TRAJECTORY_X', X, fmt=\"%5.2f\" )"
   ]
  },
  {
   "cell_type": "code",
   "execution_count": 59,
   "id": "4e086161",
   "metadata": {},
   "outputs": [
    {
     "data": {
      "image/png": "[encoded data removed]",
      "text/plain": [
       "<Figure size 432x288 with 1 Axes>"
      ]
     },
     "metadata": {
      "needs_background": "light"
     },
     "output_type": "display_data"
    }
   ],
   "source": [
    "### Trajectory ###\n",
    "\n",
    "# x = X \n",
    "# fig, ax = plt.subplots()\n",
    "# ax.plot(x, G, label = 'Trajectory')\n",
    "# plt.xlabel('Varivel T')\n",
    "# plt.ylabel('Varivel G')\n",
    "# #plt.xlim([None, 60])\n",
    "# plt.ylim([10, 60])\n",
    "# plt.legend()\n",
    "# plt.show()"
   ]
  },
  {
   "cell_type": "markdown",
   "id": "3c6e55f1",
   "metadata": {},
   "source": [
    "#### Below are the attempts made regarding the above code."
   ]
  },
  {
   "cell_type": "code",
   "execution_count": 48,
   "id": "005a871b",
   "metadata": {},
   "outputs": [],
   "source": [
    "#vl = np.loadtxt('dados.txt')"
   ]
  },
  {
   "cell_type": "code",
   "execution_count": null,
   "id": "ffdf5efd",
   "metadata": {},
   "outputs": [],
   "source": [
    "## SUPERFICIE ##\n",
    "\n",
    "#FF = []\n",
    "#Ee = []\n",
    "#HM = []\n",
    "\n",
    "#while (I<grids):\n",
    "    #I += 1\n",
    "    #H = I*width\n",
    "    #FX = 0\n",
    "    #EE = 0\n",
    "    #grad1 = grad24(M, D, HEIGHT, X)\n",
    "    #FX += grad1\n",
    "    \n",
    "    #grad2 = E24(M,D,HEIGHT,X)\n",
    "    #EE += grad2\n",
    "    \n",
    "    #for l in range(int(NG)):\n",
    "        #grad3 = gradG(Max[l], sigma[l], GH[l], X)\n",
    "        #FX += grad3\n",
    "        \n",
    "        #grad4 = EG(Max[l], sigma[l], GH[l], X)\n",
    "        #EE += grad4\n",
    "    #FF.append(FX)\n",
    "    #Ee.append(EE)\n",
    "    #HM.append(H)\n",
    "    \n",
    "    \n"
   ]
  },
  {
   "cell_type": "code",
   "execution_count": null,
   "id": "695453ef",
   "metadata": {},
   "outputs": [],
   "source": [
    "#### TESTES ####\n",
    "\n",
    "# Definido o vetores max sigma e gh\n",
    "\n",
    "#Max = []\n",
    "#sigma = [0,0,0]\n",
    "# # sigma = np.zeros(int(NG))\n",
    "# # GH = np.zeros(int(NG))\n",
    "\n",
    "#Max.append(vl[8])\n",
    "#Max.append(vl[11])\n",
    "#Max.append(vl[14])\n",
    "\n",
    "#for l in range(int(NG)):\n",
    "    #sigma[l] = vl[9]\n",
    "\n",
    "#Max = [0,0,0]\n",
    "#Max= vl[8], vl[11], vl[14]\n",
    "#sigma = [0,0,0]\n",
    "#sigma = vl[9], vl[12], vl[15]\n",
    "#GH = [0,0,0]\n",
    "#GH = vl[10], vl[13], vl[16]\n",
    "\n",
    "#Max = np.array([0,0,0])\n",
    "#sigma = np.array([0,0,0])\n",
    "#GH = np.array([0,0,0])\n",
    "\n",
    "#for i in range(int(NG)):\n",
    "    #Max[i] = vl[8+i] \n",
    "    #sigma[i] = vl[11+i]\n",
    "    #GH[i] = vl[14+i]\n",
    "\n",
    "#print(Max,sigma, type(Max))\n",
    "\n",
    "### Exemplo de until ###\n",
    "\n",
    "#while True:\n",
    "    #do_something()\n",
    "    #if condition():\n",
    "    #break"
   ]
  }
 ],
 "metadata": {
  "kernelspec": {
   "display_name": "Python 3",
   "language": "python",
   "name": "python3"
  },
  "language_info": {
   "codemirror_mode": {
    "name": "ipython",
    "version": 3
   },
   "file_extension": ".py",
   "mimetype": "text/x-python",
   "name": "python",
   "nbconvert_exporter": "python",
   "pygments_lexer": "ipython3",
   "version": "3.8.8"
  }
 },
 "nbformat": 4,
 "nbformat_minor": 5
}
